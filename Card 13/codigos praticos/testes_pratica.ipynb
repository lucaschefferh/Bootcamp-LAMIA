{
 "cells": [
  {
   "cell_type": "markdown",
   "id": "f4cc0b46-9daa-41dd-a3c7-68fbb13efc2d",
   "metadata": {},
   "source": [
    "Importação das bibliotecas"
   ]
  },
  {
   "cell_type": "code",
   "execution_count": 9,
   "id": "fad7e327-543d-4d3e-8b22-bfd4080b0be8",
   "metadata": {},
   "outputs": [],
   "source": [
    "import numpy as np\n",
    "from keras.models import Sequential\n",
    "from keras.layers import Dense, InputLayer"
   ]
  },
  {
   "cell_type": "markdown",
   "id": "c01bc560-d713-49a3-b9a7-7497235f4b9c",
   "metadata": {},
   "source": [
    "Aqui eu quis criar uma rede neural para podermos definir qual vai ser o proximo numero da sequencia de fibonacci, ai passei os 15 primeiros numeros, dividi os dados de treinamento e transformei em array"
   ]
  },
  {
   "cell_type": "code",
   "execution_count": 15,
   "id": "a9ea17db-6c1f-4d24-bd4b-d1b5b246b34d",
   "metadata": {},
   "outputs": [],
   "source": [
    "sequence = [0, 1, 1, 2, 3, 5, 8, 13, 21, 34, 55, 89, 144, 233, 377]\n",
    "\n",
    "n_steps = 5\n",
    "X, y = [], []\n",
    "for i in range(len(sequence) - n_steps):\n",
    "    X.append(sequence[i:i + n_steps])\n",
    "    y.append(sequence[i + n_steps])\n",
    "X = np.array(X)\n",
    "y = np.array(y)"
   ]
  },
  {
   "cell_type": "markdown",
   "id": "679a2e98-46a4-4f02-af14-23d6df62224f",
   "metadata": {},
   "source": [
    "Criação das camadas de entrada, oculta e saída"
   ]
  },
  {
   "cell_type": "code",
   "execution_count": 19,
   "id": "ea80e5b8-161c-43c4-960b-4d1ecac8dfdb",
   "metadata": {},
   "outputs": [],
   "source": [
    "model = Sequential()\n",
    "model.add(InputLayer(shape=(n_steps,)))\n",
    "model.add(Dense(50, activation='relu'))\n",
    "model.add(Dense(1))"
   ]
  },
  {
   "cell_type": "markdown",
   "id": "690ea588-6bd1-42ca-af46-777faec34df4",
   "metadata": {},
   "source": [
    "Compilação e treinamento da rede neural."
   ]
  },
  {
   "cell_type": "code",
   "execution_count": 21,
   "id": "eefeeb24-7f2c-42d2-994a-4a5d23715347",
   "metadata": {},
   "outputs": [],
   "source": [
    "model.compile(optimizer='adam', loss='mse')"
   ]
  },
  {
   "cell_type": "code",
   "execution_count": 23,
   "id": "6a704af0-ec79-4c0b-ac79-d95f69b7b598",
   "metadata": {},
   "outputs": [
    {
     "data": {
      "text/plain": [
       "<keras.src.callbacks.history.History at 0x2ba4d11f050>"
      ]
     },
     "execution_count": 23,
     "metadata": {},
     "output_type": "execute_result"
    }
   ],
   "source": [
    "model.fit(X, y, epochs=300, verbose=0)"
   ]
  },
  {
   "cell_type": "markdown",
   "id": "119c4399-edfd-44cc-9dfa-c2fd2f7bf1fb",
   "metadata": {},
   "source": [
    "Resposta da previsão muito próxima da correta que seria 610."
   ]
  },
  {
   "cell_type": "code",
   "execution_count": 25,
   "id": "c89c6d1e-a751-48cd-8286-d6a39922faca",
   "metadata": {},
   "outputs": [
    {
     "name": "stdout",
     "output_type": "stream",
     "text": [
      "Próximo número previsto: 609.1483154296875\n"
     ]
    }
   ],
   "source": [
    "input_seq = np.array(sequence[-n_steps:])\n",
    "input_seq = input_seq.reshape((1, n_steps))\n",
    "predicted_number = model.predict(input_seq, verbose=0)\n",
    "print(f'Próximo número previsto: {predicted_number[0][0]}')"
   ]
  }
 ],
 "metadata": {
  "kernelspec": {
   "display_name": "Python [conda env:base] *",
   "language": "python",
   "name": "conda-base-py"
  },
  "language_info": {
   "codemirror_mode": {
    "name": "ipython",
    "version": 3
   },
   "file_extension": ".py",
   "mimetype": "text/x-python",
   "name": "python",
   "nbconvert_exporter": "python",
   "pygments_lexer": "ipython3",
   "version": "3.12.7"
  }
 },
 "nbformat": 4,
 "nbformat_minor": 5
}
