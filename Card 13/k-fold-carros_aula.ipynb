{
 "cells": [
  {
   "cell_type": "markdown",
   "id": "e2cf4fc8-d44c-4dcf-82ce-ab8e9ff4b25d",
   "metadata": {},
   "source": [
    "Importação de todas as bibliotecas"
   ]
  },
  {
   "cell_type": "code",
   "execution_count": 82,
   "id": "a5fd5831-e8a1-4017-9ccd-1ca833931566",
   "metadata": {},
   "outputs": [],
   "source": [
    "import pandas as pd\n",
    "import tensorflow as tf\n",
    "import sklearn \n",
    "import scikeras\n",
    "import time"
   ]
  },
  {
   "cell_type": "code",
   "execution_count": 75,
   "id": "69ab0648-0b9e-46bf-b9d3-4a5b0c24f739",
   "metadata": {},
   "outputs": [],
   "source": [
    "from keras.backend import clear_session as k_clear_session\n",
    "from scikeras.wrappers import KerasRegressor\n",
    "from tensorflow.keras import backend as k\n",
    "from tensorflow.keras.models import Sequential\n",
    "from tensorflow.keras.layers import Dense\n",
    "from sklearn.model_selection import cross_val_score\n",
    "from sklearn.preprocessing import OneHotEncoder\n",
    "from sklearn.compose import ColumnTransformer\n",
    "from sklearn import metrics"
   ]
  },
  {
   "cell_type": "markdown",
   "id": "925564f9-36d5-4b1b-88a8-b44aabf8939e",
   "metadata": {},
   "source": [
    "Inicialização do timer"
   ]
  },
  {
   "cell_type": "code",
   "execution_count": 85,
   "id": "55e930fe-fc26-4c17-a731-5cbfc39a8db4",
   "metadata": {},
   "outputs": [
    {
     "data": {
      "text/plain": [
       "1739318205.709832"
      ]
     },
     "execution_count": 85,
     "metadata": {},
     "output_type": "execute_result"
    }
   ],
   "source": [
    "inicio = time.time()\n",
    "inicio"
   ]
  },
  {
   "cell_type": "markdown",
   "id": "69b58250-6054-449d-9204-8c866db01f45",
   "metadata": {},
   "source": [
    "Leitura dos dados"
   ]
  },
  {
   "cell_type": "code",
   "execution_count": 17,
   "id": "e0266995-a2fe-41d1-a6ea-9a79597b17cc",
   "metadata": {},
   "outputs": [],
   "source": [
    "bd = pd.read_csv('carro.csv', encoding=\"ISO-8859-1\")"
   ]
  },
  {
   "cell_type": "markdown",
   "id": "1fec2717-e74d-479b-be13-16c35eca7041",
   "metadata": {},
   "source": [
    "Retirada de parametros não importantes para a precificação dos carros"
   ]
  },
  {
   "cell_type": "code",
   "execution_count": 19,
   "id": "f9ea2696-5941-45a6-90d2-a2299bbaaac5",
   "metadata": {},
   "outputs": [],
   "source": [
    "bd = bd.drop('dateCrawled', axis = 1)\n",
    "bd = bd.drop('dateCreated', axis = 1)\n",
    "bd = bd.drop('nrOfPictures', axis = 1)\n",
    "bd = bd.drop('postalCode', axis = 1)\n",
    "bd = bd.drop('lastSeen', axis = 1)\n",
    "bd = bd.drop('name', axis = 1)\n",
    "bd = bd.drop('seller', axis = 1)\n",
    "bd = bd.drop('offerType', axis = 1)"
   ]
  },
  {
   "cell_type": "markdown",
   "id": "01a971cd-c45c-4580-b7eb-55b3a50648d0",
   "metadata": {},
   "source": [
    "Retirada de 'outliers' e de carros com valores 'errados'"
   ]
  },
  {
   "cell_type": "code",
   "execution_count": 21,
   "id": "05a0c43a-e2b9-4424-8955-a9210cad721c",
   "metadata": {},
   "outputs": [],
   "source": [
    "bd = bd[bd['price'] > 10]\n",
    "bd = bd.loc[bd['price'] < 350000]"
   ]
  },
  {
   "cell_type": "code",
   "execution_count": 25,
   "id": "bc6db349-5644-4137-8dc5-19fb034dc653",
   "metadata": {},
   "outputs": [],
   "source": [
    "valores = {'vehicleType' : 'limousine',\n",
    "           'gearbox' : 'manuell',\n",
    "           'model' : 'golf',\n",
    "           'fuelType' : 'benzin',\n",
    "           'notRepairedDamage' : 'nein'}\n",
    "bd = bd.fillna(value = valores)"
   ]
  },
  {
   "cell_type": "markdown",
   "id": "7a82c290-e48f-4618-87b5-acb12694d138",
   "metadata": {},
   "source": [
    "Criação da base de treinamento"
   ]
  },
  {
   "cell_type": "code",
   "execution_count": 27,
   "id": "7552b407-1abe-49e9-ad09-be89fcddeca6",
   "metadata": {},
   "outputs": [
    {
     "data": {
      "text/plain": [
       "array([['test', 'limousine', 1993, ..., 'benzin', 'volkswagen', 'nein'],\n",
       "       ['test', 'coupe', 2011, ..., 'diesel', 'audi', 'ja'],\n",
       "       ['test', 'suv', 2004, ..., 'diesel', 'jeep', 'nein'],\n",
       "       ...,\n",
       "       ['test', 'bus', 1996, ..., 'diesel', 'volkswagen', 'nein'],\n",
       "       ['test', 'kombi', 2002, ..., 'diesel', 'volkswagen', 'nein'],\n",
       "       ['control', 'limousine', 2013, ..., 'benzin', 'bmw', 'nein']],\n",
       "      dtype=object)"
      ]
     },
     "execution_count": 27,
     "metadata": {},
     "output_type": "execute_result"
    }
   ],
   "source": [
    "X = bd.iloc[:, 1:12].values\n",
    "X"
   ]
  },
  {
   "cell_type": "markdown",
   "id": "9a04d4ab-24cf-4a6a-b902-0775af3550a6",
   "metadata": {},
   "source": [
    "Base de dados para podermos conferir como a rede neural se saiu"
   ]
  },
  {
   "cell_type": "code",
   "execution_count": 29,
   "id": "bc2817dd-df9c-44c0-90c4-7e76556a39fe",
   "metadata": {},
   "outputs": [
    {
     "data": {
      "text/plain": [
       "array([  480, 18300,  9800, ...,  9200,  3400, 28990], dtype=int64)"
      ]
     },
     "execution_count": 29,
     "metadata": {},
     "output_type": "execute_result"
    }
   ],
   "source": [
    "y = bd.iloc[:, 0].values\n",
    "y"
   ]
  },
  {
   "cell_type": "markdown",
   "id": "0aa91bc2-6f5c-4dd5-b2b7-859f61c0d580",
   "metadata": {},
   "source": [
    "Transformando as colunas da base de dados de string para codigos para a rede neural"
   ]
  },
  {
   "cell_type": "code",
   "execution_count": 31,
   "id": "1dffc1d8-d8dd-4d72-9ba6-a3624dd9286f",
   "metadata": {},
   "outputs": [],
   "source": [
    "onehotencoder = ColumnTransformer(transformers=[('OneHot', OneHotEncoder(), [0, 1, 3, 5, 8, 9, 10])], remainder='passthrough')\n",
    "X = onehotencoder.fit_transform(X).toarray()"
   ]
  },
  {
   "cell_type": "code",
   "execution_count": 33,
   "id": "378ec157-c2b1-4949-93e2-bc6c25f3e299",
   "metadata": {},
   "outputs": [
    {
     "data": {
      "text/plain": [
       "(359291, 316)"
      ]
     },
     "execution_count": 33,
     "metadata": {},
     "output_type": "execute_result"
    }
   ],
   "source": [
    "X.shape"
   ]
  },
  {
   "cell_type": "markdown",
   "id": "19626d2f-0318-481d-914a-f15f0b58a7c9",
   "metadata": {},
   "source": [
    "Função para criar uma rede neural com 2 camadas ocultas e 1 de saída"
   ]
  },
  {
   "cell_type": "code",
   "execution_count": 77,
   "id": "5a441fa9-0578-4b34-b86f-4812006e01aa",
   "metadata": {},
   "outputs": [],
   "source": [
    "def criar_rede():\n",
    "    k_clear_session()\n",
    "    regressor = Sequential([\n",
    "        tf.keras.layers.InputLayer(shape=(316,)),\n",
    "        tf.keras.layers.Dense(units = 158, activation = 'relu'),\n",
    "        tf.keras.layers.Dense(units = 158, activation = 'relu'),\n",
    "        tf.keras.layers.Dense(units = 1, activation = 'linear')])\n",
    "    regressor.compile(loss='mean_absolute_error', optimizer='adam', metrics=['mean_absolute_error'])\n",
    "    return regressor"
   ]
  },
  {
   "cell_type": "markdown",
   "id": "a3a32031-5cce-46fc-99c4-c2d3ffe4e5d5",
   "metadata": {},
   "source": [
    "Definição dos parametros para rodar a rede neural"
   ]
  },
  {
   "cell_type": "code",
   "execution_count": 79,
   "id": "5b3fad94-8ff3-4688-b7bb-b7f1b15bc20a",
   "metadata": {},
   "outputs": [],
   "source": [
    "regressor = KerasRegressor(model = criar_rede, epochs = 10, batch_size = 300)"
   ]
  },
  {
   "cell_type": "markdown",
   "id": "18b5672e-bd83-44c0-b649-c28bfcc58ca8",
   "metadata": {},
   "source": [
    "Treinamento através do k-fold-cross-validation"
   ]
  },
  {
   "cell_type": "code",
   "execution_count": 87,
   "id": "a8be12df-e70d-4716-a6af-023ed328dc27",
   "metadata": {},
   "outputs": [
    {
     "name": "stdout",
     "output_type": "stream",
     "text": [
      "Epoch 1/10\n",
      "\u001b[1m959/959\u001b[0m \u001b[32m━━━━━━━━━━━━━━━━━━━━\u001b[0m\u001b[37m\u001b[0m \u001b[1m4s\u001b[0m 3ms/step - loss: 4351.7778 - mean_absolute_error: 4351.7783\n",
      "Epoch 2/10\n",
      "\u001b[1m959/959\u001b[0m \u001b[32m━━━━━━━━━━━━━━━━━━━━\u001b[0m\u001b[37m\u001b[0m \u001b[1m2s\u001b[0m 3ms/step - loss: 3499.5754 - mean_absolute_error: 3499.5754\n",
      "Epoch 3/10\n",
      "\u001b[1m959/959\u001b[0m \u001b[32m━━━━━━━━━━━━━━━━━━━━\u001b[0m\u001b[37m\u001b[0m \u001b[1m3s\u001b[0m 3ms/step - loss: 3321.4307 - mean_absolute_error: 3321.4309\n",
      "Epoch 4/10\n",
      "\u001b[1m959/959\u001b[0m \u001b[32m━━━━━━━━━━━━━━━━━━━━\u001b[0m\u001b[37m\u001b[0m \u001b[1m2s\u001b[0m 3ms/step - loss: 3125.8965 - mean_absolute_error: 3125.8965\n",
      "Epoch 5/10\n",
      "\u001b[1m959/959\u001b[0m \u001b[32m━━━━━━━━━━━━━━━━━━━━\u001b[0m\u001b[37m\u001b[0m \u001b[1m2s\u001b[0m 3ms/step - loss: 2922.6926 - mean_absolute_error: 2922.6926\n",
      "Epoch 6/10\n",
      "\u001b[1m959/959\u001b[0m \u001b[32m━━━━━━━━━━━━━━━━━━━━\u001b[0m\u001b[37m\u001b[0m \u001b[1m3s\u001b[0m 3ms/step - loss: 2863.8594 - mean_absolute_error: 2863.8594\n",
      "Epoch 7/10\n",
      "\u001b[1m959/959\u001b[0m \u001b[32m━━━━━━━━━━━━━━━━━━━━\u001b[0m\u001b[37m\u001b[0m \u001b[1m3s\u001b[0m 3ms/step - loss: 2775.6506 - mean_absolute_error: 2775.6506\n",
      "Epoch 8/10\n",
      "\u001b[1m959/959\u001b[0m \u001b[32m━━━━━━━━━━━━━━━━━━━━\u001b[0m\u001b[37m\u001b[0m \u001b[1m2s\u001b[0m 3ms/step - loss: 2767.8804 - mean_absolute_error: 2767.8804\n",
      "Epoch 9/10\n",
      "\u001b[1m959/959\u001b[0m \u001b[32m━━━━━━━━━━━━━━━━━━━━\u001b[0m\u001b[37m\u001b[0m \u001b[1m2s\u001b[0m 3ms/step - loss: 2756.1948 - mean_absolute_error: 2756.1951\n",
      "Epoch 10/10\n",
      "\u001b[1m959/959\u001b[0m \u001b[32m━━━━━━━━━━━━━━━━━━━━\u001b[0m\u001b[37m\u001b[0m \u001b[1m3s\u001b[0m 3ms/step - loss: 2694.8696 - mean_absolute_error: 2694.8696\n",
      "\u001b[1m240/240\u001b[0m \u001b[32m━━━━━━━━━━━━━━━━━━━━\u001b[0m\u001b[37m\u001b[0m \u001b[1m0s\u001b[0m 2ms/step\n",
      "Epoch 1/10\n",
      "\u001b[1m959/959\u001b[0m \u001b[32m━━━━━━━━━━━━━━━━━━━━\u001b[0m\u001b[37m\u001b[0m \u001b[1m3s\u001b[0m 3ms/step - loss: 4600.4854 - mean_absolute_error: 4600.4854\n",
      "Epoch 2/10\n",
      "\u001b[1m959/959\u001b[0m \u001b[32m━━━━━━━━━━━━━━━━━━━━\u001b[0m\u001b[37m\u001b[0m \u001b[1m3s\u001b[0m 3ms/step - loss: 3436.5142 - mean_absolute_error: 3436.5142\n",
      "Epoch 3/10\n",
      "\u001b[1m959/959\u001b[0m \u001b[32m━━━━━━━━━━━━━━━━━━━━\u001b[0m\u001b[37m\u001b[0m \u001b[1m3s\u001b[0m 3ms/step - loss: 3267.7876 - mean_absolute_error: 3267.7876\n",
      "Epoch 4/10\n",
      "\u001b[1m959/959\u001b[0m \u001b[32m━━━━━━━━━━━━━━━━━━━━\u001b[0m\u001b[37m\u001b[0m \u001b[1m3s\u001b[0m 3ms/step - loss: 3158.2815 - mean_absolute_error: 3158.2815\n",
      "Epoch 5/10\n",
      "\u001b[1m959/959\u001b[0m \u001b[32m━━━━━━━━━━━━━━━━━━━━\u001b[0m\u001b[37m\u001b[0m \u001b[1m2s\u001b[0m 3ms/step - loss: 3004.4983 - mean_absolute_error: 3004.4983\n",
      "Epoch 6/10\n",
      "\u001b[1m959/959\u001b[0m \u001b[32m━━━━━━━━━━━━━━━━━━━━\u001b[0m\u001b[37m\u001b[0m \u001b[1m3s\u001b[0m 3ms/step - loss: 2936.5007 - mean_absolute_error: 2936.5007\n",
      "Epoch 7/10\n",
      "\u001b[1m959/959\u001b[0m \u001b[32m━━━━━━━━━━━━━━━━━━━━\u001b[0m\u001b[37m\u001b[0m \u001b[1m2s\u001b[0m 3ms/step - loss: 2854.4919 - mean_absolute_error: 2854.4919\n",
      "Epoch 8/10\n",
      "\u001b[1m959/959\u001b[0m \u001b[32m━━━━━━━━━━━━━━━━━━━━\u001b[0m\u001b[37m\u001b[0m \u001b[1m2s\u001b[0m 3ms/step - loss: 2799.9612 - mean_absolute_error: 2799.9612\n",
      "Epoch 9/10\n",
      "\u001b[1m959/959\u001b[0m \u001b[32m━━━━━━━━━━━━━━━━━━━━\u001b[0m\u001b[37m\u001b[0m \u001b[1m3s\u001b[0m 3ms/step - loss: 2732.1389 - mean_absolute_error: 2732.1389\n",
      "Epoch 10/10\n",
      "\u001b[1m959/959\u001b[0m \u001b[32m━━━━━━━━━━━━━━━━━━━━\u001b[0m\u001b[37m\u001b[0m \u001b[1m3s\u001b[0m 3ms/step - loss: 2685.8906 - mean_absolute_error: 2685.8906\n",
      "\u001b[1m240/240\u001b[0m \u001b[32m━━━━━━━━━━━━━━━━━━━━\u001b[0m\u001b[37m\u001b[0m \u001b[1m0s\u001b[0m 2ms/step\n",
      "Epoch 1/10\n",
      "\u001b[1m959/959\u001b[0m \u001b[32m━━━━━━━━━━━━━━━━━━━━\u001b[0m\u001b[37m\u001b[0m \u001b[1m4s\u001b[0m 3ms/step - loss: 4306.4824 - mean_absolute_error: 4306.4824\n",
      "Epoch 2/10\n",
      "\u001b[1m959/959\u001b[0m \u001b[32m━━━━━━━━━━━━━━━━━━━━\u001b[0m\u001b[37m\u001b[0m \u001b[1m2s\u001b[0m 3ms/step - loss: 3450.2554 - mean_absolute_error: 3450.2554\n",
      "Epoch 3/10\n",
      "\u001b[1m959/959\u001b[0m \u001b[32m━━━━━━━━━━━━━━━━━━━━\u001b[0m\u001b[37m\u001b[0m \u001b[1m3s\u001b[0m 3ms/step - loss: 3173.1221 - mean_absolute_error: 3173.1221\n",
      "Epoch 4/10\n",
      "\u001b[1m959/959\u001b[0m \u001b[32m━━━━━━━━━━━━━━━━━━━━\u001b[0m\u001b[37m\u001b[0m \u001b[1m3s\u001b[0m 3ms/step - loss: 3028.3621 - mean_absolute_error: 3028.3621\n",
      "Epoch 5/10\n",
      "\u001b[1m959/959\u001b[0m \u001b[32m━━━━━━━━━━━━━━━━━━━━\u001b[0m\u001b[37m\u001b[0m \u001b[1m2s\u001b[0m 3ms/step - loss: 2878.3633 - mean_absolute_error: 2878.3633\n",
      "Epoch 6/10\n",
      "\u001b[1m959/959\u001b[0m \u001b[32m━━━━━━━━━━━━━━━━━━━━\u001b[0m\u001b[37m\u001b[0m \u001b[1m3s\u001b[0m 3ms/step - loss: 2805.8521 - mean_absolute_error: 2805.8521\n",
      "Epoch 7/10\n",
      "\u001b[1m959/959\u001b[0m \u001b[32m━━━━━━━━━━━━━━━━━━━━\u001b[0m\u001b[37m\u001b[0m \u001b[1m3s\u001b[0m 3ms/step - loss: 2761.0479 - mean_absolute_error: 2761.0479\n",
      "Epoch 8/10\n",
      "\u001b[1m959/959\u001b[0m \u001b[32m━━━━━━━━━━━━━━━━━━━━\u001b[0m\u001b[37m\u001b[0m \u001b[1m3s\u001b[0m 3ms/step - loss: 2707.0522 - mean_absolute_error: 2707.0522\n",
      "Epoch 9/10\n",
      "\u001b[1m959/959\u001b[0m \u001b[32m━━━━━━━━━━━━━━━━━━━━\u001b[0m\u001b[37m\u001b[0m \u001b[1m3s\u001b[0m 3ms/step - loss: 2715.6462 - mean_absolute_error: 2715.6462\n",
      "Epoch 10/10\n",
      "\u001b[1m959/959\u001b[0m \u001b[32m━━━━━━━━━━━━━━━━━━━━\u001b[0m\u001b[37m\u001b[0m \u001b[1m3s\u001b[0m 3ms/step - loss: 2653.2546 - mean_absolute_error: 2653.2546\n",
      "\u001b[1m240/240\u001b[0m \u001b[32m━━━━━━━━━━━━━━━━━━━━\u001b[0m\u001b[37m\u001b[0m \u001b[1m0s\u001b[0m 2ms/step\n",
      "Epoch 1/10\n",
      "\u001b[1m959/959\u001b[0m \u001b[32m━━━━━━━━━━━━━━━━━━━━\u001b[0m\u001b[37m\u001b[0m \u001b[1m3s\u001b[0m 3ms/step - loss: 4287.9688 - mean_absolute_error: 4287.9688\n",
      "Epoch 2/10\n",
      "\u001b[1m959/959\u001b[0m \u001b[32m━━━━━━━━━━━━━━━━━━━━\u001b[0m\u001b[37m\u001b[0m \u001b[1m3s\u001b[0m 3ms/step - loss: 3530.4419 - mean_absolute_error: 3530.4419\n",
      "Epoch 3/10\n",
      "\u001b[1m959/959\u001b[0m \u001b[32m━━━━━━━━━━━━━━━━━━━━\u001b[0m\u001b[37m\u001b[0m \u001b[1m2s\u001b[0m 3ms/step - loss: 3265.1995 - mean_absolute_error: 3265.1995\n",
      "Epoch 4/10\n",
      "\u001b[1m959/959\u001b[0m \u001b[32m━━━━━━━━━━━━━━━━━━━━\u001b[0m\u001b[37m\u001b[0m \u001b[1m3s\u001b[0m 3ms/step - loss: 3030.4653 - mean_absolute_error: 3030.4653\n",
      "Epoch 5/10\n",
      "\u001b[1m959/959\u001b[0m \u001b[32m━━━━━━━━━━━━━━━━━━━━\u001b[0m\u001b[37m\u001b[0m \u001b[1m3s\u001b[0m 3ms/step - loss: 2928.6106 - mean_absolute_error: 2928.6106\n",
      "Epoch 6/10\n",
      "\u001b[1m959/959\u001b[0m \u001b[32m━━━━━━━━━━━━━━━━━━━━\u001b[0m\u001b[37m\u001b[0m \u001b[1m2s\u001b[0m 3ms/step - loss: 2811.1208 - mean_absolute_error: 2811.1208\n",
      "Epoch 7/10\n",
      "\u001b[1m959/959\u001b[0m \u001b[32m━━━━━━━━━━━━━━━━━━━━\u001b[0m\u001b[37m\u001b[0m \u001b[1m3s\u001b[0m 3ms/step - loss: 2769.9053 - mean_absolute_error: 2769.9053\n",
      "Epoch 8/10\n",
      "\u001b[1m959/959\u001b[0m \u001b[32m━━━━━━━━━━━━━━━━━━━━\u001b[0m\u001b[37m\u001b[0m \u001b[1m3s\u001b[0m 3ms/step - loss: 2723.9111 - mean_absolute_error: 2723.9111\n",
      "Epoch 9/10\n",
      "\u001b[1m959/959\u001b[0m \u001b[32m━━━━━━━━━━━━━━━━━━━━\u001b[0m\u001b[37m\u001b[0m \u001b[1m3s\u001b[0m 3ms/step - loss: 2694.3877 - mean_absolute_error: 2694.3877\n",
      "Epoch 10/10\n",
      "\u001b[1m959/959\u001b[0m \u001b[32m━━━━━━━━━━━━━━━━━━━━\u001b[0m\u001b[37m\u001b[0m \u001b[1m3s\u001b[0m 3ms/step - loss: 2652.5264 - mean_absolute_error: 2652.5264\n",
      "\u001b[1m240/240\u001b[0m \u001b[32m━━━━━━━━━━━━━━━━━━━━\u001b[0m\u001b[37m\u001b[0m \u001b[1m0s\u001b[0m 2ms/step\n",
      "Epoch 1/10\n",
      "\u001b[1m959/959\u001b[0m \u001b[32m━━━━━━━━━━━━━━━━━━━━\u001b[0m\u001b[37m\u001b[0m \u001b[1m4s\u001b[0m 3ms/step - loss: 4364.1416 - mean_absolute_error: 4364.1416\n",
      "Epoch 2/10\n",
      "\u001b[1m959/959\u001b[0m \u001b[32m━━━━━━━━━━━━━━━━━━━━\u001b[0m\u001b[37m\u001b[0m \u001b[1m2s\u001b[0m 3ms/step - loss: 3500.4590 - mean_absolute_error: 3500.4590\n",
      "Epoch 3/10\n",
      "\u001b[1m959/959\u001b[0m \u001b[32m━━━━━━━━━━━━━━━━━━━━\u001b[0m\u001b[37m\u001b[0m \u001b[1m3s\u001b[0m 3ms/step - loss: 3240.5051 - mean_absolute_error: 3240.5051\n",
      "Epoch 4/10\n",
      "\u001b[1m959/959\u001b[0m \u001b[32m━━━━━━━━━━━━━━━━━━━━\u001b[0m\u001b[37m\u001b[0m \u001b[1m3s\u001b[0m 3ms/step - loss: 3056.7729 - mean_absolute_error: 3056.7729\n",
      "Epoch 5/10\n",
      "\u001b[1m959/959\u001b[0m \u001b[32m━━━━━━━━━━━━━━━━━━━━\u001b[0m\u001b[37m\u001b[0m \u001b[1m3s\u001b[0m 3ms/step - loss: 3020.4604 - mean_absolute_error: 3020.4604\n",
      "Epoch 6/10\n",
      "\u001b[1m959/959\u001b[0m \u001b[32m━━━━━━━━━━━━━━━━━━━━\u001b[0m\u001b[37m\u001b[0m \u001b[1m3s\u001b[0m 3ms/step - loss: 2872.4734 - mean_absolute_error: 2872.4734\n",
      "Epoch 7/10\n",
      "\u001b[1m959/959\u001b[0m \u001b[32m━━━━━━━━━━━━━━━━━━━━\u001b[0m\u001b[37m\u001b[0m \u001b[1m3s\u001b[0m 3ms/step - loss: 2815.0071 - mean_absolute_error: 2815.0068\n",
      "Epoch 8/10\n",
      "\u001b[1m959/959\u001b[0m \u001b[32m━━━━━━━━━━━━━━━━━━━━\u001b[0m\u001b[37m\u001b[0m \u001b[1m3s\u001b[0m 3ms/step - loss: 2750.6104 - mean_absolute_error: 2750.6104\n",
      "Epoch 9/10\n",
      "\u001b[1m959/959\u001b[0m \u001b[32m━━━━━━━━━━━━━━━━━━━━\u001b[0m\u001b[37m\u001b[0m \u001b[1m3s\u001b[0m 4ms/step - loss: 2732.9924 - mean_absolute_error: 2732.9922\n",
      "Epoch 10/10\n",
      "\u001b[1m959/959\u001b[0m \u001b[32m━━━━━━━━━━━━━━━━━━━━\u001b[0m\u001b[37m\u001b[0m \u001b[1m7s\u001b[0m 7ms/step - loss: 2677.6252 - mean_absolute_error: 2677.6252\n",
      "\u001b[1m240/240\u001b[0m \u001b[32m━━━━━━━━━━━━━━━━━━━━\u001b[0m\u001b[37m\u001b[0m \u001b[1m1s\u001b[0m 2ms/step\n"
     ]
    }
   ],
   "source": [
    "resultados = cross_val_score(estimator=regressor, X=X, y=y, cv=5, scoring=\"neg_mean_absolute_error\")"
   ]
  },
  {
   "cell_type": "markdown",
   "id": "2270560d-fc36-4802-bfe3-5bc8f824b2b5",
   "metadata": {},
   "source": [
    "Tempo demorado"
   ]
  },
  {
   "cell_type": "code",
   "execution_count": 93,
   "id": "ef6e0dd1-b71a-4973-be5d-f02569e90863",
   "metadata": {},
   "outputs": [],
   "source": [
    "fim = time.time()"
   ]
  },
  {
   "cell_type": "code",
   "execution_count": 95,
   "id": "d8251268-67e6-4602-846a-3ca82d5f08f7",
   "metadata": {},
   "outputs": [
    {
     "data": {
      "text/plain": [
       "1739318403.0526042"
      ]
     },
     "execution_count": 95,
     "metadata": {},
     "output_type": "execute_result"
    }
   ],
   "source": [
    "fim "
   ]
  },
  {
   "cell_type": "code",
   "execution_count": 97,
   "id": "22ca3c5b-56ae-4cdd-90be-1d5498b73b2a",
   "metadata": {},
   "outputs": [
    {
     "data": {
      "text/plain": [
       "3.2890462040901185"
      ]
     },
     "execution_count": 97,
     "metadata": {},
     "output_type": "execute_result"
    }
   ],
   "source": [
    "(fim - inicio) /60 "
   ]
  },
  {
   "cell_type": "markdown",
   "id": "457676b6-7240-4648-a6af-bbdff177e4bb",
   "metadata": {},
   "source": [
    "Resultados obtidos através do K-fold"
   ]
  },
  {
   "cell_type": "code",
   "execution_count": 101,
   "id": "f7015796-eee0-4de0-8e02-bf5f5b03880b",
   "metadata": {},
   "outputs": [
    {
     "data": {
      "text/plain": [
       "array([2633.79084609, 2778.3678309 , 2562.53729889, 2589.10350575,\n",
       "       2555.39274627])"
      ]
     },
     "execution_count": 101,
     "metadata": {},
     "output_type": "execute_result"
    }
   ],
   "source": [
    "abs(resultados)"
   ]
  },
  {
   "cell_type": "markdown",
   "id": "118b0b47-8637-4941-8ab3-80e802626380",
   "metadata": {},
   "source": [
    "Média dos resultados"
   ]
  },
  {
   "cell_type": "code",
   "execution_count": 103,
   "id": "e5c4e5ac-1816-44b5-8fb2-47911b70400c",
   "metadata": {},
   "outputs": [
    {
     "data": {
      "text/plain": [
       "2623.8384455788328"
      ]
     },
     "execution_count": 103,
     "metadata": {},
     "output_type": "execute_result"
    }
   ],
   "source": [
    "abs(resultados.mean())"
   ]
  },
  {
   "cell_type": "markdown",
   "id": "6853cea4-f1a8-451c-8f13-88205b0c2009",
   "metadata": {},
   "source": [
    "Desvio padrão dos resultados"
   ]
  },
  {
   "cell_type": "code",
   "execution_count": 107,
   "id": "580f078a-f57e-4395-b1ba-a5b3a4370bc0",
   "metadata": {},
   "outputs": [
    {
     "data": {
      "text/plain": [
       "82.00919654056226"
      ]
     },
     "execution_count": 107,
     "metadata": {},
     "output_type": "execute_result"
    }
   ],
   "source": [
    "resultados.std()"
   ]
  }
 ],
 "metadata": {
  "kernelspec": {
   "display_name": "Python [conda env:base] *",
   "language": "python",
   "name": "conda-base-py"
  },
  "language_info": {
   "codemirror_mode": {
    "name": "ipython",
    "version": 3
   },
   "file_extension": ".py",
   "mimetype": "text/x-python",
   "name": "python",
   "nbconvert_exporter": "python",
   "pygments_lexer": "ipython3",
   "version": "3.12.7"
  }
 },
 "nbformat": 4,
 "nbformat_minor": 5
}
