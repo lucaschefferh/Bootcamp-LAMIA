{
 "cells": [
  {
   "cell_type": "code",
   "execution_count": 3,
   "id": "7221faef-1e46-4c3d-b0d6-1c09cba5e85b",
   "metadata": {},
   "outputs": [],
   "source": [
    "import numpy as np "
   ]
  },
  {
   "cell_type": "markdown",
   "id": "468755c2-9390-425d-a7d3-46eeee7ff9f3",
   "metadata": {},
   "source": [
    "Essa é a função step, é uma função linear bem simples."
   ]
  },
  {
   "cell_type": "code",
   "execution_count": 7,
   "id": "31ed5faa-9bde-40c3-be7b-9fe71d3285c7",
   "metadata": {},
   "outputs": [],
   "source": [
    "def step_function(soma):\n",
    "    if soma >=1:\n",
    "        return 1\n",
    "    return 0"
   ]
  },
  {
   "cell_type": "markdown",
   "id": "9e231016-15e4-4201-95f3-952ee7558df7",
   "metadata": {},
   "source": [
    "Função sigmoide vai retornar valores entre 0 e 1"
   ]
  },
  {
   "cell_type": "code",
   "execution_count": 11,
   "id": "2c095997-1931-4198-a32f-b17da04d775d",
   "metadata": {},
   "outputs": [],
   "source": [
    "def sigmoid(soma):\n",
    "    return 1 / (1 +  np.exp(-soma))"
   ]
  },
  {
   "cell_type": "markdown",
   "id": "00cc45b0-3834-4247-b693-6eedf3a8a3e9",
   "metadata": {},
   "source": [
    "Função tangente hiperbólica, podem ser retornados valores entre -1 e 1, mais utilizado em visão computacional"
   ]
  },
  {
   "cell_type": "code",
   "execution_count": 18,
   "id": "cf4c0661-d400-41cf-896c-d04d22f369c8",
   "metadata": {},
   "outputs": [],
   "source": [
    "def tang(soma):\n",
    "    return (np.exp(soma) - np.exp(-soma)) / (np.exp(soma) + np.exp(-soma))"
   ]
  },
  {
   "cell_type": "markdown",
   "id": "41f2ca27-e2f6-49a9-88f6-8a0c7f730fd6",
   "metadata": {},
   "source": [
    "Função Relu (Rectified Linear Units), valores>=0 (sem valor máximo). Mais utilizados em Deep Learning"
   ]
  },
  {
   "cell_type": "code",
   "execution_count": 22,
   "id": "a4d1943f-eb2a-4c95-a565-313ae378628e",
   "metadata": {},
   "outputs": [],
   "source": [
    "def relu(soma):\n",
    "    if soma>= 0:\n",
    "        return soma\n",
    "    return 0"
   ]
  },
  {
   "cell_type": "markdown",
   "id": "6c5ebbbb-2cc7-4c97-bd4c-038bcb95f4fc",
   "metadata": {},
   "source": [
    "Função Softmax retorna as probabilidades, é usada quando problemas existem mais de 2 classes."
   ]
  },
  {
   "cell_type": "code",
   "execution_count": 27,
   "id": "aa4daabf-1ab1-4e73-8391-8cdf4dfea46a",
   "metadata": {},
   "outputs": [],
   "source": [
    "def softmax(x):\n",
    "    ex =  np.exp(x)\n",
    "    return ex / ex.sum()"
   ]
  },
  {
   "cell_type": "code",
   "execution_count": 29,
   "id": "1db0df53-7ad9-4057-9485-feed4d6b1353",
   "metadata": {},
   "outputs": [
    {
     "data": {
      "text/plain": [
       "array([0.95419625, 0.01581358, 0.02999016])"
      ]
     },
     "execution_count": 29,
     "metadata": {},
     "output_type": "execute_result"
    }
   ],
   "source": [
    "softmax([7.0, 2.90, 3.54])"
   ]
  },
  {
   "cell_type": "markdown",
   "id": "4cb33018-e720-4374-9ed7-3db38945b52e",
   "metadata": {},
   "source": [
    "Função linear retorna o proprio valor passado como parametro"
   ]
  },
  {
   "cell_type": "code",
   "execution_count": 32,
   "id": "16af0601-9aa9-4407-a726-9e47f477f721",
   "metadata": {},
   "outputs": [],
   "source": [
    "def linear(soma):\n",
    "    return soma"
   ]
  }
 ],
 "metadata": {
  "kernelspec": {
   "display_name": "Python [conda env:base] *",
   "language": "python",
   "name": "conda-base-py"
  },
  "language_info": {
   "codemirror_mode": {
    "name": "ipython",
    "version": 3
   },
   "file_extension": ".py",
   "mimetype": "text/x-python",
   "name": "python",
   "nbconvert_exporter": "python",
   "pygments_lexer": "ipython3",
   "version": "3.12.7"
  }
 },
 "nbformat": 4,
 "nbformat_minor": 5
}
