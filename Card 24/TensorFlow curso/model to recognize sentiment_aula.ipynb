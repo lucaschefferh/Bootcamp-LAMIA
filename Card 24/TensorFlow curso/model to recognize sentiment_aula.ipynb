{
 "cells": [
  {
   "cell_type": "code",
   "execution_count": 1,
   "id": "8e10db7e-8923-4718-9041-e3524ca4e339",
   "metadata": {},
   "outputs": [],
   "source": [
    "import json"
   ]
  },
  {
   "cell_type": "code",
   "execution_count": 2,
   "id": "1a946836-a748-469a-88e4-98250adeea04",
   "metadata": {},
   "outputs": [],
   "source": [
    "#Abrindo o arquivo com as sentenças.\n",
    "#Extraindo os dados, sentenças, colunas e urls.\n",
    "with open(\"/tmp/sarcasm.json\", 'r') as f:\n",
    "    datastore = json.load(f)\n",
    "\n",
    "sentences = []\n",
    "labels = []\n",
    "urls = []\n",
    "\n",
    "for item in datastore:\n",
    "    sentences.append(item['headline'])\n",
    "    labels.append(item['is_sarcastic'])\n",
    "    urls.append(item['article_link'])"
   ]
  },
  {
   "cell_type": "code",
   "execution_count": 3,
   "id": "714d82cc-41dc-4a25-8820-b460e56f6b66",
   "metadata": {},
   "outputs": [
    {
     "name": "stderr",
     "output_type": "stream",
     "text": [
      "2025-08-14 14:32:35.253767: I tensorflow/core/util/port.cc:113] oneDNN custom operations are on. You may see slightly different numerical results due to floating-point round-off errors from different computation orders. To turn them off, set the environment variable `TF_ENABLE_ONEDNN_OPTS=0`.\n",
      "2025-08-14 14:32:35.331629: E external/local_xla/xla/stream_executor/cuda/cuda_dnn.cc:9261] Unable to register cuDNN factory: Attempting to register factory for plugin cuDNN when one has already been registered\n",
      "2025-08-14 14:32:35.331664: E external/local_xla/xla/stream_executor/cuda/cuda_fft.cc:607] Unable to register cuFFT factory: Attempting to register factory for plugin cuFFT when one has already been registered\n",
      "2025-08-14 14:32:35.350452: E external/local_xla/xla/stream_executor/cuda/cuda_blas.cc:1515] Unable to register cuBLAS factory: Attempting to register factory for plugin cuBLAS when one has already been registered\n",
      "2025-08-14 14:32:35.384536: I tensorflow/core/platform/cpu_feature_guard.cc:182] This TensorFlow binary is optimized to use available CPU instructions in performance-critical operations.\n",
      "To enable the following instructions: SSE4.1 SSE4.2 AVX AVX2 AVX_VNNI FMA, in other operations, rebuild TensorFlow with the appropriate compiler flags.\n"
     ]
    },
    {
     "name": "stdout",
     "output_type": "stream",
     "text": [
      "[  308 15115   679  3337  2298    48   382  2576 15116     6  2577  8434\n",
      "     0     0     0     0     0     0     0     0     0     0     0     0\n",
      "     0     0     0     0     0     0     0     0     0     0     0     0\n",
      "     0     0     0     0]\n",
      "(26709, 40)\n"
     ]
    }
   ],
   "source": [
    "\"\"\"\n",
    "Importando as bibliotecas.\n",
    "Padronizando o Out of vocabulary\n",
    "Tokenizando as sentenças.\n",
    "Recebendo qual palavra tem qual indice.\n",
    "Adicionando o padding para todas terem o mesmo formato.\n",
    "\"\"\"\n",
    "\n",
    "from tensorflow.keras.preprocessing.text import Tokenizer\n",
    "from tensorflow.keras.preprocessing.sequence import pad_sequences\n",
    "tokenizer = Tokenizer(oov_token = '<OOV>')\n",
    "tokenizer.fit_on_texts(sentences)\n",
    "word_index = tokenizer.word_index\n",
    "\n",
    "sequences = tokenizer.texts_to_sequences(sentences)\n",
    "padded = pad_sequences(sequences, padding='post')\n",
    "print(padded[0])\n",
    "print(padded.shape)"
   ]
  },
  {
   "cell_type": "code",
   "execution_count": 11,
   "id": "de0a00d7-ed6f-4c3a-ae3e-aa1f8f975890",
   "metadata": {},
   "outputs": [],
   "source": [
    "#Separando dados de treino e dados de teste\n",
    "training_size = 20000\n",
    "training_sentences = sentences[0:training_size]\n",
    "testing_sentences = sentences[training_size:]\n",
    "training_labels = labels[0:training_size]\n",
    "testing_labels = labels[training_size:]"
   ]
  },
  {
   "cell_type": "code",
   "execution_count": 13,
   "id": "4ba3c3aa-778a-4825-be51-f88fa65ee030",
   "metadata": {},
   "outputs": [],
   "source": [
    "\"\"\"\n",
    "Tokenizando porém com limite de 10000 palavras\n",
    "E separando melhor os dados de treino e os dados de teste\n",
    "\"\"\"\n",
    "\n",
    "tokenizer = Tokenizer(num_words = 10000, oov_token = '<OOV>')\n",
    "tokenizer.fit_on_texts(training_sentences)\n",
    "\n",
    "word_index = tokenizer.word_index\n",
    "\n",
    "training_sequences = tokenizer.texts_to_sequences(training_sentences)\n",
    "training_padded = pad_sequences(training_sequences, maxlen = 100,\n",
    "                                padding = 'post', truncating = 'post')\n",
    "\n",
    "testing_sequences = tokenizer.texts_to_sequences(testing_sentences)\n",
    "testing_padded = pad_sequences(testing_sequences, maxlen = 100,\n",
    "                               padding = 'post', truncating = 'post')\n",
    "                      "
   ]
  },
  {
   "cell_type": "markdown",
   "id": "573f8f85-c9cc-4bc4-94c3-cae0a4549153",
   "metadata": {},
   "source": []
  },
  {
   "cell_type": "code",
   "execution_count": 20,
   "id": "b3ed367a-e7da-4f06-b825-c10b0f1a5407",
   "metadata": {},
   "outputs": [
    {
     "name": "stderr",
     "output_type": "stream",
     "text": [
      "2025-08-14 14:52:39.776141: I external/local_xla/xla/stream_executor/cuda/cuda_executor.cc:901] successful NUMA node read from SysFS had negative value (-1), but there must be at least one NUMA node, so returning NUMA node zero. See more at https://github.com/torvalds/linux/blob/v6.0/Documentation/ABI/testing/sysfs-bus-pci#L344-L355\n",
      "2025-08-14 14:52:39.980822: I external/local_xla/xla/stream_executor/cuda/cuda_executor.cc:901] successful NUMA node read from SysFS had negative value (-1), but there must be at least one NUMA node, so returning NUMA node zero. See more at https://github.com/torvalds/linux/blob/v6.0/Documentation/ABI/testing/sysfs-bus-pci#L344-L355\n",
      "2025-08-14 14:52:39.984927: I external/local_xla/xla/stream_executor/cuda/cuda_executor.cc:901] successful NUMA node read from SysFS had negative value (-1), but there must be at least one NUMA node, so returning NUMA node zero. See more at https://github.com/torvalds/linux/blob/v6.0/Documentation/ABI/testing/sysfs-bus-pci#L344-L355\n",
      "2025-08-14 14:52:39.989622: I external/local_xla/xla/stream_executor/cuda/cuda_executor.cc:901] successful NUMA node read from SysFS had negative value (-1), but there must be at least one NUMA node, so returning NUMA node zero. See more at https://github.com/torvalds/linux/blob/v6.0/Documentation/ABI/testing/sysfs-bus-pci#L344-L355\n",
      "2025-08-14 14:52:39.992432: I external/local_xla/xla/stream_executor/cuda/cuda_executor.cc:901] successful NUMA node read from SysFS had negative value (-1), but there must be at least one NUMA node, so returning NUMA node zero. See more at https://github.com/torvalds/linux/blob/v6.0/Documentation/ABI/testing/sysfs-bus-pci#L344-L355\n",
      "2025-08-14 14:52:39.995032: I external/local_xla/xla/stream_executor/cuda/cuda_executor.cc:901] successful NUMA node read from SysFS had negative value (-1), but there must be at least one NUMA node, so returning NUMA node zero. See more at https://github.com/torvalds/linux/blob/v6.0/Documentation/ABI/testing/sysfs-bus-pci#L344-L355\n",
      "2025-08-14 14:52:40.118208: I external/local_xla/xla/stream_executor/cuda/cuda_executor.cc:901] successful NUMA node read from SysFS had negative value (-1), but there must be at least one NUMA node, so returning NUMA node zero. See more at https://github.com/torvalds/linux/blob/v6.0/Documentation/ABI/testing/sysfs-bus-pci#L344-L355\n",
      "2025-08-14 14:52:40.119762: I external/local_xla/xla/stream_executor/cuda/cuda_executor.cc:901] successful NUMA node read from SysFS had negative value (-1), but there must be at least one NUMA node, so returning NUMA node zero. See more at https://github.com/torvalds/linux/blob/v6.0/Documentation/ABI/testing/sysfs-bus-pci#L344-L355\n",
      "2025-08-14 14:52:40.120987: I external/local_xla/xla/stream_executor/cuda/cuda_executor.cc:901] successful NUMA node read from SysFS had negative value (-1), but there must be at least one NUMA node, so returning NUMA node zero. See more at https://github.com/torvalds/linux/blob/v6.0/Documentation/ABI/testing/sysfs-bus-pci#L344-L355\n",
      "2025-08-14 14:52:40.122250: I tensorflow/core/common_runtime/gpu/gpu_device.cc:1929] Created device /job:localhost/replica:0/task:0/device:GPU:0 with 4123 MB memory:  -> device: 0, name: NVIDIA GeForce RTX 3050 6GB Laptop GPU, pci bus id: 0000:01:00.0, compute capability: 8.6\n"
     ]
    }
   ],
   "source": [
    "#Criação da rede neural, com uma camada de embedding, um pooling, uma camada densa com 24 neuronios e a camada de saída com um neuronio e a função de ativação sigmoid\n",
    "import tensorflow as tf\n",
    "model = tf.keras.Sequential([\n",
    "    tf.keras.layers.Embedding(10000, 16, input_length = 100),\n",
    "    tf.keras.layers.GlobalAveragePooling1D(),\n",
    "    tf.keras.layers.Dense(24, activation='relu'),\n",
    "    tf.keras.layers.Dense(1, activation='sigmoid')\n",
    "])\n",
    "model.compile(loss='binary_crossentropy', optimizer='adam', metrics=['accuracy'])"
   ]
  },
  {
   "cell_type": "code",
   "execution_count": 22,
   "id": "11b666bd-6295-4d0d-a175-8bf14a743bd4",
   "metadata": {},
   "outputs": [],
   "source": [
    "#Precisa dessa célular para formatar a entrada dos dados na rede neural\n",
    "import numpy as np\n",
    "training_padded = np.array(training_padded)\n",
    "training_labels = np.array(training_labels)\n",
    "testing_padded = np.array(testing_padded)\n",
    "testing_labels = np.array(testing_labels)"
   ]
  },
  {
   "cell_type": "code",
   "execution_count": 23,
   "id": "c4fe3aee-e07d-4843-aebe-3c0cf2d644bc",
   "metadata": {},
   "outputs": [
    {
     "name": "stdout",
     "output_type": "stream",
     "text": [
      "Epoch 1/30\n"
     ]
    },
    {
     "name": "stderr",
     "output_type": "stream",
     "text": [
      "2025-08-14 14:56:43.849063: I external/local_xla/xla/service/service.cc:168] XLA service 0x7a1bfc670b20 initialized for platform CUDA (this does not guarantee that XLA will be used). Devices:\n",
      "2025-08-14 14:56:43.849087: I external/local_xla/xla/service/service.cc:176]   StreamExecutor device (0): NVIDIA GeForce RTX 3050 6GB Laptop GPU, Compute Capability 8.6\n",
      "2025-08-14 14:56:43.860698: I tensorflow/compiler/mlir/tensorflow/utils/dump_mlir_util.cc:269] disabling MLIR crash reproducer, set env var `MLIR_CRASH_REPRODUCER_DIRECTORY` to enable.\n",
      "2025-08-14 14:56:43.888309: I external/local_xla/xla/stream_executor/cuda/cuda_dnn.cc:454] Loaded cuDNN version 8907\n",
      "WARNING: All log messages before absl::InitializeLog() is called are written to STDERR\n",
      "I0000 00:00:1755194203.945262    9903 device_compiler.h:186] Compiled cluster using XLA!  This line is logged at most once for the lifetime of the process.\n"
     ]
    },
    {
     "name": "stdout",
     "output_type": "stream",
     "text": [
      "625/625 - 9s - loss: 0.6665 - accuracy: 0.5818 - val_loss: 0.5931 - val_accuracy: 0.6606 - 9s/epoch - 14ms/step\n",
      "Epoch 2/30\n",
      "625/625 - 2s - loss: 0.4440 - accuracy: 0.8260 - val_loss: 0.3911 - val_accuracy: 0.8393 - 2s/epoch - 2ms/step\n",
      "Epoch 3/30\n",
      "625/625 - 2s - loss: 0.3182 - accuracy: 0.8744 - val_loss: 0.3554 - val_accuracy: 0.8542 - 2s/epoch - 3ms/step\n",
      "Epoch 4/30\n",
      "625/625 - 2s - loss: 0.2664 - accuracy: 0.8975 - val_loss: 0.3536 - val_accuracy: 0.8480 - 2s/epoch - 3ms/step\n",
      "Epoch 5/30\n",
      "625/625 - 1s - loss: 0.2298 - accuracy: 0.9119 - val_loss: 0.3469 - val_accuracy: 0.8517 - 1s/epoch - 2ms/step\n",
      "Epoch 6/30\n",
      "625/625 - 1s - loss: 0.2026 - accuracy: 0.9231 - val_loss: 0.3566 - val_accuracy: 0.8533 - 1s/epoch - 2ms/step\n",
      "Epoch 7/30\n",
      "625/625 - 2s - loss: 0.1804 - accuracy: 0.9317 - val_loss: 0.3654 - val_accuracy: 0.8499 - 2s/epoch - 3ms/step\n",
      "Epoch 8/30\n",
      "625/625 - 1s - loss: 0.1631 - accuracy: 0.9389 - val_loss: 0.3688 - val_accuracy: 0.8559 - 1s/epoch - 2ms/step\n",
      "Epoch 9/30\n",
      "625/625 - 2s - loss: 0.1472 - accuracy: 0.9466 - val_loss: 0.4063 - val_accuracy: 0.8408 - 2s/epoch - 3ms/step\n",
      "Epoch 10/30\n",
      "625/625 - 1s - loss: 0.1330 - accuracy: 0.9533 - val_loss: 0.4055 - val_accuracy: 0.8493 - 1s/epoch - 2ms/step\n",
      "Epoch 11/30\n",
      "625/625 - 2s - loss: 0.1212 - accuracy: 0.9575 - val_loss: 0.4335 - val_accuracy: 0.8425 - 2s/epoch - 3ms/step\n",
      "Epoch 12/30\n",
      "625/625 - 2s - loss: 0.1117 - accuracy: 0.9614 - val_loss: 0.4462 - val_accuracy: 0.8457 - 2s/epoch - 3ms/step\n",
      "Epoch 13/30\n",
      "625/625 - 1s - loss: 0.1025 - accuracy: 0.9656 - val_loss: 0.4637 - val_accuracy: 0.8469 - 1s/epoch - 2ms/step\n",
      "Epoch 14/30\n",
      "625/625 - 1s - loss: 0.0947 - accuracy: 0.9671 - val_loss: 0.4906 - val_accuracy: 0.8448 - 1s/epoch - 2ms/step\n",
      "Epoch 15/30\n",
      "625/625 - 2s - loss: 0.0862 - accuracy: 0.9717 - val_loss: 0.5188 - val_accuracy: 0.8410 - 2s/epoch - 3ms/step\n",
      "Epoch 16/30\n",
      "625/625 - 2s - loss: 0.0803 - accuracy: 0.9740 - val_loss: 0.5398 - val_accuracy: 0.8389 - 2s/epoch - 3ms/step\n",
      "Epoch 17/30\n",
      "625/625 - 2s - loss: 0.0740 - accuracy: 0.9762 - val_loss: 0.5979 - val_accuracy: 0.8320 - 2s/epoch - 2ms/step\n",
      "Epoch 18/30\n",
      "625/625 - 2s - loss: 0.0685 - accuracy: 0.9780 - val_loss: 0.5976 - val_accuracy: 0.8337 - 2s/epoch - 2ms/step\n",
      "Epoch 19/30\n",
      "625/625 - 2s - loss: 0.0631 - accuracy: 0.9799 - val_loss: 0.7119 - val_accuracy: 0.8207 - 2s/epoch - 3ms/step\n",
      "Epoch 20/30\n",
      "625/625 - 2s - loss: 0.0593 - accuracy: 0.9825 - val_loss: 0.6797 - val_accuracy: 0.8292 - 2s/epoch - 2ms/step\n",
      "Epoch 21/30\n",
      "625/625 - 2s - loss: 0.0541 - accuracy: 0.9839 - val_loss: 0.6898 - val_accuracy: 0.8286 - 2s/epoch - 3ms/step\n",
      "Epoch 22/30\n",
      "625/625 - 2s - loss: 0.0504 - accuracy: 0.9847 - val_loss: 0.7189 - val_accuracy: 0.8244 - 2s/epoch - 3ms/step\n",
      "Epoch 23/30\n",
      "625/625 - 1s - loss: 0.0456 - accuracy: 0.9870 - val_loss: 0.7817 - val_accuracy: 0.8223 - 1s/epoch - 2ms/step\n",
      "Epoch 24/30\n",
      "625/625 - 2s - loss: 0.0427 - accuracy: 0.9872 - val_loss: 0.8090 - val_accuracy: 0.8204 - 2s/epoch - 3ms/step\n",
      "Epoch 25/30\n",
      "625/625 - 2s - loss: 0.0398 - accuracy: 0.9885 - val_loss: 0.8145 - val_accuracy: 0.8229 - 2s/epoch - 3ms/step\n",
      "Epoch 26/30\n",
      "625/625 - 1s - loss: 0.0363 - accuracy: 0.9899 - val_loss: 0.8704 - val_accuracy: 0.8199 - 1s/epoch - 2ms/step\n",
      "Epoch 27/30\n",
      "625/625 - 2s - loss: 0.0335 - accuracy: 0.9913 - val_loss: 0.9181 - val_accuracy: 0.8182 - 2s/epoch - 3ms/step\n",
      "Epoch 28/30\n",
      "625/625 - 2s - loss: 0.0331 - accuracy: 0.9905 - val_loss: 0.9158 - val_accuracy: 0.8176 - 2s/epoch - 3ms/step\n",
      "Epoch 29/30\n",
      "625/625 - 2s - loss: 0.0311 - accuracy: 0.9920 - val_loss: 0.9447 - val_accuracy: 0.8176 - 2s/epoch - 3ms/step\n",
      "Epoch 30/30\n",
      "625/625 - 2s - loss: 0.0268 - accuracy: 0.9930 - val_loss: 1.0534 - val_accuracy: 0.8165 - 2s/epoch - 3ms/step\n"
     ]
    }
   ],
   "source": [
    "#Treinando o modelo\n",
    "num_epochs = 30\n",
    "history = model.fit(training_padded, training_labels, epochs=num_epochs, \n",
    "                    validation_data = (testing_padded, testing_labels), verbose=2)"
   ]
  },
  {
   "cell_type": "code",
   "execution_count": 26,
   "id": "5b4a8102-8679-4f99-b78a-68c52b12649c",
   "metadata": {},
   "outputs": [
    {
     "name": "stdout",
     "output_type": "stream",
     "text": [
      "1/1 [==============================] - 0s 17ms/step\n",
      "[[0.00351257]]\n"
     ]
    }
   ],
   "source": [
    "#Testando a predição do modelo em frases criadas\n",
    "sentence = [\n",
    "    'granny starting to fear spiders in the garden might be real'\n",
    "    'the weather today is bright and sunny'\n",
    "]\n",
    "sequences = tokenizer.texts_to_sequences(sentence)\n",
    "\n",
    "padded = pad_sequences(sequences, maxlen=100,\n",
    "                       padding = 'post' , truncating = 'post')\n",
    "\n",
    "print(model.predict(padded))"
   ]
  },
  {
   "cell_type": "code",
   "execution_count": null,
   "id": "2bf28433-b9b3-4f81-b9b3-c9dab5d14ac5",
   "metadata": {},
   "outputs": [],
   "source": []
  }
 ],
 "metadata": {
  "kernelspec": {
   "display_name": "Python 3 (ipykernel)",
   "language": "python",
   "name": "python3"
  },
  "language_info": {
   "codemirror_mode": {
    "name": "ipython",
    "version": 3
   },
   "file_extension": ".py",
   "mimetype": "text/x-python",
   "name": "python",
   "nbconvert_exporter": "python",
   "pygments_lexer": "ipython3",
   "version": "3.13.5"
  }
 },
 "nbformat": 4,
 "nbformat_minor": 5
}
