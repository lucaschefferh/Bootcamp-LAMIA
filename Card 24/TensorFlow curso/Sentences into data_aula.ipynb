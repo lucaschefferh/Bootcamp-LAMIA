{
 "cells": [
  {
   "cell_type": "code",
   "execution_count": 1,
   "id": "e23c4739-8522-4114-8519-651b9945199a",
   "metadata": {},
   "outputs": [
    {
     "name": "stderr",
     "output_type": "stream",
     "text": [
      "2025-08-13 16:10:49.540698: I tensorflow/core/util/port.cc:113] oneDNN custom operations are on. You may see slightly different numerical results due to floating-point round-off errors from different computation orders. To turn them off, set the environment variable `TF_ENABLE_ONEDNN_OPTS=0`.\n",
      "2025-08-13 16:10:49.567332: E external/local_xla/xla/stream_executor/cuda/cuda_dnn.cc:9261] Unable to register cuDNN factory: Attempting to register factory for plugin cuDNN when one has already been registered\n",
      "2025-08-13 16:10:49.567360: E external/local_xla/xla/stream_executor/cuda/cuda_fft.cc:607] Unable to register cuFFT factory: Attempting to register factory for plugin cuFFT when one has already been registered\n",
      "2025-08-13 16:10:49.567878: E external/local_xla/xla/stream_executor/cuda/cuda_blas.cc:1515] Unable to register cuBLAS factory: Attempting to register factory for plugin cuBLAS when one has already been registered\n",
      "2025-08-13 16:10:49.571960: I tensorflow/core/platform/cpu_feature_guard.cc:182] This TensorFlow binary is optimized to use available CPU instructions in performance-critical operations.\n",
      "To enable the following instructions: SSE4.1 SSE4.2 AVX AVX2 AVX_VNNI FMA, in other operations, rebuild TensorFlow with the appropriate compiler flags.\n"
     ]
    }
   ],
   "source": [
    "import tensorflow as tf\n",
    "from tensorflow import keras\n",
    "from tensorflow.keras.preprocessing.text import Tokenizer"
   ]
  },
  {
   "cell_type": "code",
   "execution_count": 2,
   "id": "2d7c9533-c6ca-4a8f-b8c2-669d95c0511f",
   "metadata": {},
   "outputs": [],
   "source": [
    "sentences = [\n",
    "    'I love my cat',\n",
    "    'I love my dog',\n",
    "    'You love my dog!',\n",
    "    'Do you think my dog is amazing?'\n",
    "]"
   ]
  },
  {
   "cell_type": "code",
   "execution_count": 8,
   "id": "044c4277-d395-46aa-b4b5-5bc7290243bb",
   "metadata": {},
   "outputs": [],
   "source": [
    "\"\"\"\n",
    "Nessa alteração de parametros do tokenizer é adicionado esse OOV ou out of vocabulary. \n",
    "Significando que quando ele nao reconhecer as palavras ele vai dar o indice desse OOV. \n",
    "Feito para não perder o tamanho da sentença\n",
    "\"\"\"\n",
    "tokenizer = Tokenizer(num_words = 100, oov_token = '<OOV>')\n",
    "tokenizer.fit_on_texts(sentences)\n",
    "word_index = tokenizer.word_index"
   ]
  },
  {
   "cell_type": "code",
   "execution_count": 9,
   "id": "5bd0b22a-cbb1-4f06-b680-84792742d3f2",
   "metadata": {},
   "outputs": [],
   "source": [
    "#Até aqui é o mesmo processo.\n",
    "#Agora é feito uma transformação nas sentenças para que elas se transformem em uma sequencia de numeros que representam o que está sendo escrito\n",
    "sequences = tokenizer.texts_to_sequences(sentences)"
   ]
  },
  {
   "cell_type": "code",
   "execution_count": 10,
   "id": "cff5dfd9-5e5a-407b-bfc6-93574fa60b9c",
   "metadata": {},
   "outputs": [
    {
     "name": "stdout",
     "output_type": "stream",
     "text": [
      "{'<OOV>': 1, 'my': 2, 'love': 3, 'dog': 4, 'i': 5, 'you': 6, 'cat': 7, 'do': 8, 'think': 9, 'is': 10, 'amazing': 11}\n",
      "[[5, 3, 2, 7], [5, 3, 2, 4], [6, 3, 2, 4], [8, 6, 9, 2, 4, 10, 11]]\n"
     ]
    }
   ],
   "source": [
    "print(word_index)\n",
    "print(sequences)"
   ]
  },
  {
   "cell_type": "code",
   "execution_count": 11,
   "id": "6efb1f0a-5e14-4a51-abae-92c4fd51c12d",
   "metadata": {},
   "outputs": [],
   "source": [
    "test_data = [\n",
    "    'i really love my dog',\n",
    "    'my dog loves my manatee'\n",
    "]"
   ]
  },
  {
   "cell_type": "code",
   "execution_count": 12,
   "id": "b9f7c91d-b90f-47b6-8997-24735fed91b0",
   "metadata": {},
   "outputs": [
    {
     "name": "stdout",
     "output_type": "stream",
     "text": [
      "[[5, 1, 3, 2, 4], [2, 4, 1, 2, 1]]\n"
     ]
    }
   ],
   "source": [
    "\"\"\"\n",
    "Aqui é demonstrado o que acontece quando o tokenizer não reconhece a palavra utilizada.\n",
    "Nesse caso ele apenas ignora e continua, como ele não reconheceu 2 das palavras da segunda sentença ela ficou apenas como my dog .. my .. \n",
    "\"\"\"\n",
    "test_seq = tokenizer.texts_to_sequences(test_data)\n",
    "print(test_seq)"
   ]
  },
  {
   "cell_type": "code",
   "execution_count": 13,
   "id": "04a7a0b2-044d-4e01-9718-60def36df964",
   "metadata": {},
   "outputs": [],
   "source": [
    "#Padding para poder padronizar o tamanho das sequencias para treinamento de redes neurais\n",
    "from tensorflow.keras.preprocessing.sequence import pad_sequences"
   ]
  },
  {
   "cell_type": "code",
   "execution_count": 14,
   "id": "6094cb74-b435-4ba2-9f4f-ee9c15c3ff4e",
   "metadata": {},
   "outputs": [],
   "source": [
    "padded = pad_sequences(sequences)"
   ]
  },
  {
   "cell_type": "code",
   "execution_count": 15,
   "id": "b601d851-5aba-4e27-82d2-10b0fb9ad816",
   "metadata": {},
   "outputs": [
    {
     "name": "stdout",
     "output_type": "stream",
     "text": [
      "{'<OOV>': 1, 'my': 2, 'love': 3, 'dog': 4, 'i': 5, 'you': 6, 'cat': 7, 'do': 8, 'think': 9, 'is': 10, 'amazing': 11}\n",
      "[[5, 3, 2, 7], [5, 3, 2, 4], [6, 3, 2, 4], [8, 6, 9, 2, 4, 10, 11]]\n",
      "[[ 0  0  0  5  3  2  7]\n",
      " [ 0  0  0  5  3  2  4]\n",
      " [ 0  0  0  6  3  2  4]\n",
      " [ 8  6  9  2  4 10 11]]\n"
     ]
    }
   ],
   "source": [
    "print(word_index)\n",
    "print(sequences)\n",
    "print(padded)"
   ]
  }
 ],
 "metadata": {
  "kernelspec": {
   "display_name": "Python 3 (ipykernel)",
   "language": "python",
   "name": "python3"
  },
  "language_info": {
   "codemirror_mode": {
    "name": "ipython",
    "version": 3
   },
   "file_extension": ".py",
   "mimetype": "text/x-python",
   "name": "python",
   "nbconvert_exporter": "python",
   "pygments_lexer": "ipython3",
   "version": "3.13.5"
  }
 },
 "nbformat": 4,
 "nbformat_minor": 5
}
