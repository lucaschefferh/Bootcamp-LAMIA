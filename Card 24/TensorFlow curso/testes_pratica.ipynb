{
 "cells": [
  {
   "cell_type": "raw",
   "id": "75165395-f0ea-45e5-821e-d68b804b1f64",
   "metadata": {},
   "source": [
    "Importação das bibliotecas necessárias"
   ]
  },
  {
   "cell_type": "code",
   "execution_count": 1,
   "id": "232d568c-6215-4434-96da-a03282478709",
   "metadata": {},
   "outputs": [],
   "source": [
    "#Problemas com ambiente virtual e configuração da gpu \n",
    "import os\n",
    "\n",
    "conda_prefix = os.environ.get('CONDA_PREFIX', '')\n",
    "os.environ['XLA_FLAGS'] = f'--xla_gpu_cuda_data_dir={conda_prefix}'"
   ]
  },
  {
   "cell_type": "code",
   "execution_count": 2,
   "id": "c729987b-9f8d-4096-aae7-7ee762e068f1",
   "metadata": {},
   "outputs": [
    {
     "name": "stderr",
     "output_type": "stream",
     "text": [
      "2025-08-25 22:08:45.340175: I tensorflow/core/util/port.cc:153] oneDNN custom operations are on. You may see slightly different numerical results due to floating-point round-off errors from different computation orders. To turn them off, set the environment variable `TF_ENABLE_ONEDNN_OPTS=0`.\n",
      "2025-08-25 22:08:45.349261: E external/local_xla/xla/stream_executor/cuda/cuda_fft.cc:477] Unable to register cuFFT factory: Attempting to register factory for plugin cuFFT when one has already been registered\n",
      "WARNING: All log messages before absl::InitializeLog() is called are written to STDERR\n",
      "E0000 00:00:1756170525.361076   13438 cuda_dnn.cc:8310] Unable to register cuDNN factory: Attempting to register factory for plugin cuDNN when one has already been registered\n",
      "E0000 00:00:1756170525.365028   13438 cuda_blas.cc:1418] Unable to register cuBLAS factory: Attempting to register factory for plugin cuBLAS when one has already been registered\n",
      "2025-08-25 22:08:45.377014: I tensorflow/core/platform/cpu_feature_guard.cc:210] This TensorFlow binary is optimized to use available CPU instructions in performance-critical operations.\n",
      "To enable the following instructions: AVX_VNNI, in other operations, rebuild TensorFlow with the appropriate compiler flags.\n"
     ]
    }
   ],
   "source": [
    "import tensorflow as tf\n",
    "from tensorflow.keras.datasets import imdb\n",
    "from tensorflow.keras.preprocessing.sequence import pad_sequences\n",
    "from tensorflow.keras.models import Sequential\n",
    "from tensorflow.keras.layers import Embedding, GlobalAveragePooling1D, Dense\n",
    "import numpy as np"
   ]
  },
  {
   "cell_type": "code",
   "execution_count": 8,
   "id": "066b6eb0-cd4f-4ae3-a398-38aef9c0e366",
   "metadata": {},
   "outputs": [
    {
     "name": "stdout",
     "output_type": "stream",
     "text": [
      "Dados de treino (shape): (25000, 200)\n",
      "Dados de teste (shape): (25000, 200)\n"
     ]
    }
   ],
   "source": [
    "\"\"\"\n",
    "Passagem dos parametros.\n",
    "Carregamento base de dados.\n",
    "Pré processamento dos dados.\n",
    "\"\"\"\n",
    "\n",
    "vocab_size = 10000\n",
    "maxlen = 200\n",
    "\n",
    "(X_treino, y_treino), (X_testes, y_testes) = imdb.load_data(num_words=vocab_size)\n",
    "\n",
    "X_treino_padded = pad_sequences(X_treino, maxlen=maxlen, padding='post', truncating='post')\n",
    "X_testes_padded = pad_sequences(X_testes, maxlen=maxlen, padding='post', truncating='post')\n",
    "\n",
    "y_treino = np.array(y_treino)\n",
    "y_testes = np.array(y_testes)\n",
    "\n",
    "print(\"Dados de treino (shape):\", X_treino_padded.shape)\n",
    "print(\"Dados de teste (shape):\", X_testes_padded.shape)"
   ]
  },
  {
   "cell_type": "code",
   "execution_count": 4,
   "id": "8273b093-e29a-4d1a-9103-df013fa45f41",
   "metadata": {},
   "outputs": [
    {
     "name": "stderr",
     "output_type": "stream",
     "text": [
      "I0000 00:00:1756170533.083780   13438 gpu_device.cc:2022] Created device /job:localhost/replica:0/task:0/device:GPU:0 with 4123 MB memory:  -> device: 0, name: NVIDIA GeForce RTX 3050 6GB Laptop GPU, pci bus id: 0000:01:00.0, compute capability: 8.6\n"
     ]
    },
    {
     "data": {
      "text/html": [
       "<pre style=\"white-space:pre;overflow-x:auto;line-height:normal;font-family:Menlo,'DejaVu Sans Mono',consolas,'Courier New',monospace\"><span style=\"font-weight: bold\">Model: \"sequential\"</span>\n",
       "</pre>\n"
      ],
      "text/plain": [
       "\u001b[1mModel: \"sequential\"\u001b[0m\n"
      ]
     },
     "metadata": {},
     "output_type": "display_data"
    },
    {
     "data": {
      "text/html": [
       "<pre style=\"white-space:pre;overflow-x:auto;line-height:normal;font-family:Menlo,'DejaVu Sans Mono',consolas,'Courier New',monospace\">┏━━━━━━━━━━━━━━━━━━━━━━━━━━━━━━━━━┳━━━━━━━━━━━━━━━━━━━━━━━━┳━━━━━━━━━━━━━━━┓\n",
       "┃<span style=\"font-weight: bold\"> Layer (type)                    </span>┃<span style=\"font-weight: bold\"> Output Shape           </span>┃<span style=\"font-weight: bold\">       Param # </span>┃\n",
       "┡━━━━━━━━━━━━━━━━━━━━━━━━━━━━━━━━━╇━━━━━━━━━━━━━━━━━━━━━━━━╇━━━━━━━━━━━━━━━┩\n",
       "│ embedding (<span style=\"color: #0087ff; text-decoration-color: #0087ff\">Embedding</span>)           │ ?                      │   <span style=\"color: #00af00; text-decoration-color: #00af00\">0</span> (unbuilt) │\n",
       "├─────────────────────────────────┼────────────────────────┼───────────────┤\n",
       "│ global_average_pooling1d        │ ?                      │             <span style=\"color: #00af00; text-decoration-color: #00af00\">0</span> │\n",
       "│ (<span style=\"color: #0087ff; text-decoration-color: #0087ff\">GlobalAveragePooling1D</span>)        │                        │               │\n",
       "├─────────────────────────────────┼────────────────────────┼───────────────┤\n",
       "│ dense (<span style=\"color: #0087ff; text-decoration-color: #0087ff\">Dense</span>)                   │ ?                      │   <span style=\"color: #00af00; text-decoration-color: #00af00\">0</span> (unbuilt) │\n",
       "├─────────────────────────────────┼────────────────────────┼───────────────┤\n",
       "│ dense_1 (<span style=\"color: #0087ff; text-decoration-color: #0087ff\">Dense</span>)                 │ ?                      │   <span style=\"color: #00af00; text-decoration-color: #00af00\">0</span> (unbuilt) │\n",
       "└─────────────────────────────────┴────────────────────────┴───────────────┘\n",
       "</pre>\n"
      ],
      "text/plain": [
       "┏━━━━━━━━━━━━━━━━━━━━━━━━━━━━━━━━━┳━━━━━━━━━━━━━━━━━━━━━━━━┳━━━━━━━━━━━━━━━┓\n",
       "┃\u001b[1m \u001b[0m\u001b[1mLayer (type)                   \u001b[0m\u001b[1m \u001b[0m┃\u001b[1m \u001b[0m\u001b[1mOutput Shape          \u001b[0m\u001b[1m \u001b[0m┃\u001b[1m \u001b[0m\u001b[1m      Param #\u001b[0m\u001b[1m \u001b[0m┃\n",
       "┡━━━━━━━━━━━━━━━━━━━━━━━━━━━━━━━━━╇━━━━━━━━━━━━━━━━━━━━━━━━╇━━━━━━━━━━━━━━━┩\n",
       "│ embedding (\u001b[38;5;33mEmbedding\u001b[0m)           │ ?                      │   \u001b[38;5;34m0\u001b[0m (unbuilt) │\n",
       "├─────────────────────────────────┼────────────────────────┼───────────────┤\n",
       "│ global_average_pooling1d        │ ?                      │             \u001b[38;5;34m0\u001b[0m │\n",
       "│ (\u001b[38;5;33mGlobalAveragePooling1D\u001b[0m)        │                        │               │\n",
       "├─────────────────────────────────┼────────────────────────┼───────────────┤\n",
       "│ dense (\u001b[38;5;33mDense\u001b[0m)                   │ ?                      │   \u001b[38;5;34m0\u001b[0m (unbuilt) │\n",
       "├─────────────────────────────────┼────────────────────────┼───────────────┤\n",
       "│ dense_1 (\u001b[38;5;33mDense\u001b[0m)                 │ ?                      │   \u001b[38;5;34m0\u001b[0m (unbuilt) │\n",
       "└─────────────────────────────────┴────────────────────────┴───────────────┘\n"
      ]
     },
     "metadata": {},
     "output_type": "display_data"
    },
    {
     "data": {
      "text/html": [
       "<pre style=\"white-space:pre;overflow-x:auto;line-height:normal;font-family:Menlo,'DejaVu Sans Mono',consolas,'Courier New',monospace\"><span style=\"font-weight: bold\"> Total params: </span><span style=\"color: #00af00; text-decoration-color: #00af00\">0</span> (0.00 B)\n",
       "</pre>\n"
      ],
      "text/plain": [
       "\u001b[1m Total params: \u001b[0m\u001b[38;5;34m0\u001b[0m (0.00 B)\n"
      ]
     },
     "metadata": {},
     "output_type": "display_data"
    },
    {
     "data": {
      "text/html": [
       "<pre style=\"white-space:pre;overflow-x:auto;line-height:normal;font-family:Menlo,'DejaVu Sans Mono',consolas,'Courier New',monospace\"><span style=\"font-weight: bold\"> Trainable params: </span><span style=\"color: #00af00; text-decoration-color: #00af00\">0</span> (0.00 B)\n",
       "</pre>\n"
      ],
      "text/plain": [
       "\u001b[1m Trainable params: \u001b[0m\u001b[38;5;34m0\u001b[0m (0.00 B)\n"
      ]
     },
     "metadata": {},
     "output_type": "display_data"
    },
    {
     "data": {
      "text/html": [
       "<pre style=\"white-space:pre;overflow-x:auto;line-height:normal;font-family:Menlo,'DejaVu Sans Mono',consolas,'Courier New',monospace\"><span style=\"font-weight: bold\"> Non-trainable params: </span><span style=\"color: #00af00; text-decoration-color: #00af00\">0</span> (0.00 B)\n",
       "</pre>\n"
      ],
      "text/plain": [
       "\u001b[1m Non-trainable params: \u001b[0m\u001b[38;5;34m0\u001b[0m (0.00 B)\n"
      ]
     },
     "metadata": {},
     "output_type": "display_data"
    }
   ],
   "source": [
    "\"\"\"\n",
    "Criação do modelo com embedding, pooling e 1 camada oculta de 24 neuronios.\n",
    "Compilação com otimizador adam, métrica de acerto acurácia\n",
    "\"\"\"\n",
    "embedding_dim = 16\n",
    "\n",
    "model = Sequential([\n",
    "    Embedding(vocab_size, embedding_dim),\n",
    "    GlobalAveragePooling1D(),\n",
    "    Dense(24, activation='relu'),\n",
    "    Dense(1, activation='sigmoid')\n",
    "])\n",
    "\n",
    "model.compile(optimizer='adam',\n",
    "              loss='binary_crossentropy',\n",
    "              metrics=['accuracy'])\n",
    "\n",
    "model.summary()"
   ]
  },
  {
   "cell_type": "code",
   "execution_count": 5,
   "id": "43ddd182-e2a0-435e-92b1-de12d5060e9c",
   "metadata": {},
   "outputs": [
    {
     "name": "stdout",
     "output_type": "stream",
     "text": [
      "Epoch 1/10\n"
     ]
    },
    {
     "name": "stderr",
     "output_type": "stream",
     "text": [
      "I0000 00:00:1756170540.476658   13565 service.cc:148] XLA service 0x7fe2a00199a0 initialized for platform CUDA (this does not guarantee that XLA will be used). Devices:\n",
      "I0000 00:00:1756170540.476684   13565 service.cc:156]   StreamExecutor device (0): NVIDIA GeForce RTX 3050 6GB Laptop GPU, Compute Capability 8.6\n",
      "2025-08-25 22:09:00.493028: I tensorflow/compiler/mlir/tensorflow/utils/dump_mlir_util.cc:268] disabling MLIR crash reproducer, set env var `MLIR_CRASH_REPRODUCER_DIRECTORY` to enable.\n",
      "I0000 00:00:1756170540.595762   13565 cuda_dnn.cc:529] Loaded cuDNN version 91200\n",
      "I0000 00:00:1756170541.166270   13565 device_compiler.h:188] Compiled cluster using XLA!  This line is logged at most once for the lifetime of the process.\n"
     ]
    },
    {
     "name": "stdout",
     "output_type": "stream",
     "text": [
      "782/782 - 5s - 6ms/step - accuracy: 0.7378 - loss: 0.5222 - val_accuracy: 0.8021 - val_loss: 0.4115\n",
      "Epoch 2/10\n",
      "782/782 - 2s - 3ms/step - accuracy: 0.8726 - loss: 0.3089 - val_accuracy: 0.8358 - val_loss: 0.3651\n",
      "Epoch 3/10\n",
      "782/782 - 3s - 3ms/step - accuracy: 0.9020 - loss: 0.2506 - val_accuracy: 0.8566 - val_loss: 0.3333\n",
      "Epoch 4/10\n",
      "782/782 - 2s - 3ms/step - accuracy: 0.9154 - loss: 0.2190 - val_accuracy: 0.8584 - val_loss: 0.3382\n",
      "Epoch 5/10\n",
      "782/782 - 2s - 3ms/step - accuracy: 0.9276 - loss: 0.1938 - val_accuracy: 0.8538 - val_loss: 0.3579\n",
      "Epoch 6/10\n",
      "782/782 - 2s - 3ms/step - accuracy: 0.9349 - loss: 0.1781 - val_accuracy: 0.8518 - val_loss: 0.3774\n",
      "Epoch 7/10\n",
      "782/782 - 3s - 3ms/step - accuracy: 0.9430 - loss: 0.1601 - val_accuracy: 0.8430 - val_loss: 0.4109\n",
      "Epoch 8/10\n",
      "782/782 - 2s - 2ms/step - accuracy: 0.9476 - loss: 0.1477 - val_accuracy: 0.8489 - val_loss: 0.4097\n",
      "Epoch 9/10\n",
      "782/782 - 2s - 3ms/step - accuracy: 0.9546 - loss: 0.1346 - val_accuracy: 0.8435 - val_loss: 0.4481\n",
      "Epoch 10/10\n",
      "782/782 - 2s - 3ms/step - accuracy: 0.9551 - loss: 0.1295 - val_accuracy: 0.8062 - val_loss: 0.5974\n"
     ]
    }
   ],
   "source": [
    "num_epochs = 10\n",
    "history = model.fit(\n",
    "    training_padded,\n",
    "    training_labels,\n",
    "    epochs=num_epochs,\n",
    "    validation_data=(testing_padded, testing_labels),\n",
    "    verbose=2\n",
    ")"
   ]
  },
  {
   "cell_type": "code",
   "execution_count": 6,
   "id": "448bb2a2-ba42-4a28-be38-ba842261531e",
   "metadata": {},
   "outputs": [],
   "source": [
    "\"\"\"\n",
    "Carrega um dicionario pré existente do imdb.\n",
    "Cria uma função para receber um review e devolver uma matriz\n",
    "\"\"\"\n",
    "\n",
    "indice_palavras = imdb.get_word_index()\n",
    "\n",
    "def preparar_novas_reviews(lista_reviews):\n",
    "    sequencias = []\n",
    "    for review_texto in lista_reviews:\n",
    "        sequencia = [indice_palavras.get(palavra, 2) + 3 for palavra in review_texto.lower().split()] #O \"+3\" é necessário por causa dos índices 0, 1 e 2, que são reservados no dataset\n",
    "        sequencias.append(sequencia)\n",
    "    \n",
    "    return pad_sequences(sequencias, maxlen=maxlen, padding='post', truncating='post') #Aplica padding para que todas as sequências tenham o mesmo tamanho\n",
    "\n",
    "\n",
    "reviews_para_teste = [\n",
    "    \"This movie was fantastic! The acting was incredible and the story was amazing\",\n",
    "    \"I really did not like this movie. The plot was weak and the acting was terrible\",\n",
    "    \"An average movie, nothing special but also not terrible\",\n",
    "]\n",
    "\n",
    "reviews_preparadas = preparar_novas_reviews(reviews_para_teste)"
   ]
  },
  {
   "cell_type": "code",
   "execution_count": 7,
   "id": "e50605c6-3d5b-406e-9a97-70f9ceb8ef60",
   "metadata": {},
   "outputs": [
    {
     "name": "stdout",
     "output_type": "stream",
     "text": [
      "\u001b[1m1/1\u001b[0m \u001b[32m━━━━━━━━━━━━━━━━━━━━\u001b[0m\u001b[37m\u001b[0m \u001b[1m0s\u001b[0m 264ms/step\n",
      "Review: This movie was fantastic! The acting was incredible and the story was amazing\n",
      "Sentimento: Negativo (Confiança: 0.98)\n",
      "----------------------------------------------------------------------\n",
      "Review: I really did not like this movie. The plot was weak and the acting was terrible\n",
      "Sentimento: Negativo (Confiança: 1.00)\n",
      "----------------------------------------------------------------------\n",
      "Review: An average movie, nothing special but also not terrible\n",
      "Sentimento: Negativo (Confiança: 1.00)\n",
      "----------------------------------------------------------------------\n"
     ]
    }
   ],
   "source": [
    "\"\"\"\n",
    "Carrega o que o modelo prevê \n",
    "Itera sobre as reviews e calcula o 'sentimento' e a 'confiança' de cada frase.\n",
    "Printa os resultados\n",
    "\"\"\"\n",
    "\n",
    "predicoes = model.predict(reviews_preparadas)\n",
    "\n",
    "for i, review_texto in enumerate(reviews_para_teste):\n",
    "    predicao_valor = predicoes[i][0]\n",
    "\n",
    "    sentimento = \"Positivo\" if predicao_valor > 0.5 else \"Negativo\"\n",
    "\n",
    "    confianca = predicao_valor if predicao_valor > 0.5 else 1 - predicao_valor\n",
    "\n",
    "    print(f\"Review: {review_texto}\")\n",
    "    print(f\"Sentimento: {sentimento} (Confiança: {confianca:.2f})\")\n",
    "    print(\"-\" * 70)"
   ]
  },
  {
   "cell_type": "code",
   "execution_count": null,
   "id": "4eb1f99e-3fb8-4149-87ea-0df9a1f4e2f0",
   "metadata": {},
   "outputs": [],
   "source": []
  }
 ],
 "metadata": {
  "kernelspec": {
   "display_name": "TensorFlow (Simples)",
   "language": "python",
   "name": "tf_final"
  },
  "language_info": {
   "codemirror_mode": {
    "name": "ipython",
    "version": 3
   },
   "file_extension": ".py",
   "mimetype": "text/x-python",
   "name": "python",
   "nbconvert_exporter": "python",
   "pygments_lexer": "ipython3",
   "version": "3.10.18"
  }
 },
 "nbformat": 4,
 "nbformat_minor": 5
}
